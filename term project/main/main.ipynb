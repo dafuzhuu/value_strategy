{
 "cells": [
  {
   "cell_type": "markdown",
   "metadata": {},
   "source": [
    "## 二、数据及研究方法\n",
    "\n",
    "在本部分，首先介绍了数据的来源，然后详细说明了 B-score 的构建方法以及检验 B-score 有效性的方法。"
   ]
  },
  {
   "cell_type": "markdown",
   "metadata": {},
   "source": [
    "### （一）数据获取\n",
    "\n",
    "使用 CSMAR 数据库，时间范围选取 2014-2023 年的全市场股票财务数据。"
   ]
  },
  {
   "cell_type": "markdown",
   "metadata": {},
   "source": [
    "**1. Safety 维度**\n",
    "\n",
    "$$\n",
    "Safety=\\frac{1}{leverage}=\\frac{1}{0.38\\times MLEV+0.35\\times DTOA+0.27\\times BLEV}\n",
    "$$\n",
    "\n",
    "$$\n",
    "MLEV=\\frac{普通股市场价值+优先股+长期负债}{普通股市场价值}, BLEV=\\frac{普通股账面价值+优先股+长期负债}{普通股账面价值}, DTOA=\\frac{总负债}{总资产}\n",
    "$$\n",
    "\n",
    "其中普通股市场价值用上一个交易日的股票收盘价计算，其余数据用上一财年的年报计算。普通股账面价值=所有者权益总计-优先股\n",
    "\n",
    "**2. Cheapness 维度**\n",
    "\n",
    "$$\n",
    "PEG=\\frac{市盈率(TTM)}{利润增长率\\times 100}\n",
    "$$\n",
    "\n",
    "$$\n",
    "利润增长率=\\frac{利润总额_{n+1}}{利润总额_n}-1\n",
    "$$\n",
    "\n",
    "**3. Quality 维度**\n",
    "\n",
    "$$\n",
    "Quality=\\frac{净利润}{营业利润}\n",
    "$$"
   ]
  },
  {
   "cell_type": "code",
   "execution_count": 354,
   "metadata": {},
   "outputs": [],
   "source": [
    "import numpy as np\n",
    "import pandas as pd\n",
    "import os\n",
    "from tqdm import tqdm\n",
    "import warnings\n",
    "warnings.filterwarnings(\"ignore\")"
   ]
  },
  {
   "cell_type": "code",
   "execution_count": 154,
   "metadata": {},
   "outputs": [],
   "source": [
    "def fetch_data(rel_path):\n",
    "    files = os.listdir(rel_path)\n",
    "    csv_name = [x for x in files if x.split(\".\")[1] == \"csv\"][0]\n",
    "    txt_name = [x for x in files if x.split(\".\")[1] == \"txt\"][0]\n",
    "    txt_file = open(os.path.join(rel_path, txt_name), encoding=\"utf-8\")\n",
    "    csv_data = pd.read_csv(os.path.join(rel_path, csv_name), dtype={0: str})\n",
    "    content = txt_file.readlines()\n",
    "    name_list = []\n",
    "    for line in content:\n",
    "        code, name = line.split(\" [\")\n",
    "        name = name.split(\"]\")[0]\n",
    "        name_list.append(name)\n",
    "\n",
    "    # rename columns\n",
    "    csv_data.columns = name_list\n",
    "\n",
    "    # clean the data\n",
    "    csv_data = csv_data.fillna(0)\n",
    "    if \"交易月份\" in csv_data.columns:\n",
    "        csv_data[\"交易月份\"] = pd.to_datetime(csv_data[\"交易月份\"])\n",
    "    else:\n",
    "        csv_data[\"统计截止日期\"] = pd.to_datetime(csv_data[\"统计截止日期\"])\n",
    "\n",
    "    # use type A report\n",
    "    if \"报表类型\" in name_list:\n",
    "        csv_data = csv_data[csv_data[\"报表类型\"] == \"A\"]\n",
    "\n",
    "    return csv_data\n",
    "\n",
    "raw_data = {}\n",
    "mapping = {\"bal\": \"资产负债表\", \"inc\": \"利润表\", \"pe\": \"相对价值指标\", \"ret\": \"月个股回报率\", \"day\": \"公布日期\"}\n",
    "for item in list(mapping.keys()):\n",
    "    path = f'../data/{mapping[item]}'\n",
    "    raw_data[item] = fetch_data(path)"
   ]
  },
  {
   "cell_type": "markdown",
   "metadata": {},
   "source": [
    "### （二）B-score 的构建"
   ]
  },
  {
   "cell_type": "markdown",
   "metadata": {},
   "source": [
    "考虑到年/季报晚于统计截止日期，为了消除前瞻偏差（look- ahead bias），需要对数据做特殊处理"
   ]
  },
  {
   "cell_type": "code",
   "execution_count": 355,
   "metadata": {},
   "outputs": [],
   "source": [
    "def get_calendar():\n",
    "    cal = pd.date_range(start=\"2013-12-31\", end=\"2023-12-31\", freq=\"ME\")\n",
    "    cal = cal.strftime(\"%Y-%m\")\n",
    "    return cal.tolist()\n",
    "\n",
    "def get_symbols(raw_data):\n",
    "    symbol_lists = []\n",
    "    for item in list(raw_data.keys()):\n",
    "        tmp_df = raw_data[item]\n",
    "        index_name = \"证券代码\" if \"证券代码\" in tmp_df.columns else \"股票代码\"\n",
    "        symbol_lists.append(tmp_df[index_name].tolist())\n",
    "    tmp_set = set()\n",
    "    for i in range(len(symbol_lists)):\n",
    "        if i == 0:\n",
    "            tmp_set = set(symbol_lists[i])\n",
    "        else:\n",
    "            tmp_set = tmp_set & set(symbol_lists[i])  # intersaction\n",
    "\n",
    "    return sorted(list(tmp_set))\n",
    "\n",
    "def init_df():\n",
    "    return pd.DataFrame(0, index=get_calendar(), columns=get_symbols(raw_data))\n",
    "\n",
    "def store_csv(df, name):\n",
    "    output_dir = \"../output/\"\n",
    "    df.to_csv(output_dir + name + \".csv\")"
   ]
  },
  {
   "cell_type": "code",
   "execution_count": 356,
   "metadata": {},
   "outputs": [],
   "source": [
    "def process_data(raw_data, key, variables=None):\n",
    "    clean_data = {}\n",
    "    tmp_df = init_df()\n",
    "    if variables is None:\n",
    "        variables = raw_data[key].columns[4:]\n",
    "    for var in tqdm(variables, desc=\"variables\"):\n",
    "        if f\"{var}.csv\" in os.listdir(\"../output/\"):  # skip existed\n",
    "            continue\n",
    "        index_name = \"证券代码\" if \"证券代码\" in raw_data[key].columns else \"股票代码\"  # syntax diff in pe\n",
    "        tmp_tb = pd.pivot(raw_data[key], index=index_name, columns=\"统计截止日期\", values=var)\n",
    "        report_df = raw_data[\"day\"].groupby([\"证券代码\", \"统计截止日期\"])[\"报告公布日期\"].first()\n",
    "        report_df = pd.to_datetime(report_df, errors='coerce')\n",
    "        report_df = report_df.dropna()\n",
    "        report_df = report_df.dt.strftime(\"%Y-%m\")\n",
    "\n",
    "        for (symbol, day), month in report_df.items():  # match by unique symbol and day\n",
    "            if (month in tmp_df.index) & (symbol in tmp_df.columns):\n",
    "                tmp_df.loc[month, symbol] = tmp_tb[var].loc[symbol, day] if len(variables) > 1 else tmp_tb.loc[symbol, day]\n",
    "        \n",
    "        tmp_df = tmp_df.replace(0, np.nan).ffill()\n",
    "        tmp_df = tmp_df.dropna(axis=0, how=\"all\").fillna(0)\n",
    "        store_csv(tmp_df, name=var)\n",
    "        \n",
    "        clean_data[var] = tmp_df\n",
    "\n",
    "    return clean_data"
   ]
  },
  {
   "cell_type": "code",
   "execution_count": null,
   "metadata": {},
   "outputs": [],
   "source": [
    "pe_data = process_data(raw_data, \"pe\", [\"市盈率（PE）TTM\"])\n",
    "bal_data = process_data(raw_data, \"bal\")\n",
    "inc_data = process_data(raw_data, \"inc\")"
   ]
  }
 ],
 "metadata": {
  "kernelspec": {
   "display_name": "quant",
   "language": "python",
   "name": "python3"
  },
  "language_info": {
   "codemirror_mode": {
    "name": "ipython",
    "version": 3
   },
   "file_extension": ".py",
   "mimetype": "text/x-python",
   "name": "python",
   "nbconvert_exporter": "python",
   "pygments_lexer": "ipython3",
   "version": "3.12.4"
  }
 },
 "nbformat": 4,
 "nbformat_minor": 2
}
